{
 "cells": [
  {
   "cell_type": "code",
   "execution_count": 1,
   "metadata": {},
   "outputs": [],
   "source": [
    "%load_ext Cython"
   ]
  },
  {
   "cell_type": "code",
   "execution_count": 2,
   "metadata": {},
   "outputs": [],
   "source": [
    "import time\n",
    "\n",
    "import cython\n",
    "import numpy as np\n",
    "import pandas as pd\n",
    "from scipy.stats import ks_2samp\n",
    "\n",
    "# inputs\n",
    "n_cols = 200\n",
    "n_rows = 1000"
   ]
  },
  {
   "cell_type": "code",
   "execution_count": 3,
   "metadata": {},
   "outputs": [
    {
     "name": "stdout",
     "output_type": "stream",
     "text": [
      "(1000, 201)\n",
      "       col0      col1      col2      col3      col4      col5      col6  \\\n",
      "0  0.948151  0.614034  0.108205  0.277074  0.897316  0.022170  0.365907   \n",
      "1  0.569964  0.679303  0.116523  0.996159  0.687061  0.542842  0.169815   \n",
      "2  0.334469  0.250663  0.986200  0.926311  0.628055  0.179119  0.592241   \n",
      "3  0.218385  0.870784  0.294704  0.472960  0.207863  0.221755  0.730130   \n",
      "4  0.912946  0.888567  0.296331  0.695963  0.257647  0.398912  0.643933   \n",
      "\n",
      "       col7      col8      col9  ...    col191    col192    col193    col194  \\\n",
      "0  0.295494  0.128025  0.431435  ...  0.045427  0.767367  0.483426  0.900184   \n",
      "1  0.126485  0.149533  0.521056  ...  0.850938  0.129488  0.346979  0.832179   \n",
      "2  0.032384  0.560780  0.475293  ...  0.387899  0.815845  0.644342  0.495470   \n",
      "3  0.690949  0.427892  0.068691  ...  0.147644  0.793434  0.429706  0.563573   \n",
      "4  0.915435  0.494238  0.068424  ...  0.193682  0.212297  0.225945  0.662959   \n",
      "\n",
      "     col195    col196    col197    col198    col199  window  \n",
      "0  0.333157  0.523814  0.185718  0.208992  0.028254    base  \n",
      "1  0.561297  0.827431  0.618997  0.793556  0.451769    base  \n",
      "2  0.495946  0.097506  0.604770  0.218890  0.331561   focus  \n",
      "3  0.584408  0.394676  0.168643  0.677606  0.458758    base  \n",
      "4  0.552406  0.267573  0.123850  0.896259  0.474137    base  \n",
      "\n",
      "[5 rows x 201 columns]\n",
      "focus    509\n",
      "base     491\n",
      "Name: window, dtype: int64\n"
     ]
    }
   ],
   "source": [
    "# create data\n",
    "df = pd.DataFrame(\n",
    "    np.random.rand(n_rows, n_cols),\n",
    "    columns=[f'col{col}' for col in range(n_cols)]\n",
    ")\n",
    "\n",
    "# randomly select a base and focus window\n",
    "df['window'] = np.where(np.random.rand(n_rows) >= 0.5, 'base', 'focus')\n",
    "\n",
    "# print some info\n",
    "print(df.shape)\n",
    "print(df.head())\n",
    "print(df['window'].value_counts())"
   ]
  },
  {
   "cell_type": "code",
   "execution_count": 4,
   "metadata": {},
   "outputs": [
    {
     "name": "stdout",
     "output_type": "stream",
     "text": [
      "<class 'numpy.ndarray'> (491, 200)\n",
      "<class 'numpy.ndarray'> (509, 200)\n"
     ]
    }
   ],
   "source": [
    "# create two numpy array's from df\n",
    "arr_base = df[df['window'] == 'base']._get_numeric_data().values\n",
    "arr_focus = df[df['window'] == 'focus']._get_numeric_data().values\n",
    "print(type(arr_base), arr_base.shape)\n",
    "print(type(arr_focus), arr_focus.shape)"
   ]
  },
  {
   "cell_type": "code",
   "execution_count": 5,
   "metadata": {},
   "outputs": [],
   "source": [
    "def ks_df_dumb(df):\n",
    "    results = []\n",
    "    for col in df._get_numeric_data():\n",
    "        base = df[df['window'] == 'base'][col].values\n",
    "        focus = df[df['window'] == 'focus'][col].values\n",
    "        ks_stat, p_value = ks_2samp(base, focus)\n",
    "        results.append((ks_stat, p_value))\n",
    "    return results"
   ]
  },
  {
   "cell_type": "code",
   "execution_count": 6,
   "metadata": {},
   "outputs": [],
   "source": [
    "def ks_df_vec(df):\n",
    "    results = []\n",
    "    base = df[df['window'] == 'base']._get_numeric_data().transpose().values\n",
    "    focus = df[df['window'] == 'focus']._get_numeric_data().transpose().values\n",
    "    ks_2samp_vec = np.vectorize(ks_2samp, signature='(n),(m)->(),()')\n",
    "    results = ks_2samp_vec(base, focus)\n",
    "    results = list(zip(results[0], results[1]))\n",
    "    return results"
   ]
  },
  {
   "cell_type": "code",
   "execution_count": 7,
   "metadata": {},
   "outputs": [],
   "source": [
    "def ks_np_dumb(arr_a, arr_b):\n",
    "    results = []\n",
    "    for n in range(arr_a.shape[1]):        \n",
    "        ks_stat, p_value = ks_2samp(arr_a[:,n],arr_b[:,n])\n",
    "        results.append((ks_stat, p_value))\n",
    "    return results"
   ]
  },
  {
   "cell_type": "code",
   "execution_count": 8,
   "metadata": {},
   "outputs": [],
   "source": [
    "def ks_np_vec(arr_a, arr_b):\n",
    "    ks_2samp_vec = np.vectorize(ks_2samp, signature='(n),(m)->(),()')\n",
    "    results = ks_2samp_vec(arr_a.T, arr_b.T)\n",
    "    results = list(zip(results[0], results[1]))\n",
    "    return results"
   ]
  },
  {
   "cell_type": "code",
   "execution_count": 9,
   "metadata": {},
   "outputs": [],
   "source": [
    "%%cython\n",
    "\n",
    "import numpy as np\n",
    "cimport numpy as np\n",
    "cimport cython\n",
    "from scipy.stats import ks_2samp\n",
    "\n",
    "DTYPE = np.double\n",
    "\n",
    "\n",
    "cpdef cy_ks_np(double[:, :] arr_a, double[:, :] arr_b):\n",
    "\n",
    "    cdef double k, p\n",
    "    cdef Py_ssize_t i\n",
    "    cdef Py_ssize_t m = arr_a.shape[1]\n",
    "    \n",
    "    result = np.zeros((m, 2), dtype=DTYPE)\n",
    "    cdef double[:, :] result_view = result\n",
    "\n",
    "    for i in range(m):\n",
    "        k, p = ks_2samp(arr_a[:,i], arr_b[:,i])\n",
    "        result_view[i,0] = k\n",
    "        result_view[i,1] = p\n",
    "\n",
    "    return result"
   ]
  },
  {
   "cell_type": "code",
   "execution_count": null,
   "metadata": {},
   "outputs": [],
   "source": [
    "%%timeit -n 5 -r 5\n",
    "results = ks_df_dumb(df)"
   ]
  },
  {
   "cell_type": "code",
   "execution_count": null,
   "metadata": {},
   "outputs": [],
   "source": [
    "%%timeit -n 5 -r 5\n",
    "results = ks_df_vec(df)"
   ]
  },
  {
   "cell_type": "code",
   "execution_count": null,
   "metadata": {},
   "outputs": [],
   "source": [
    "%%timeit -n 5 -r 5\n",
    "results = ks_np_dumb(arr_base, arr_focus)"
   ]
  },
  {
   "cell_type": "code",
   "execution_count": null,
   "metadata": {},
   "outputs": [],
   "source": [
    "%%timeit -n 5 -r 5\n",
    "results = ks_np_vec(arr_base, arr_focus)"
   ]
  },
  {
   "cell_type": "code",
   "execution_count": null,
   "metadata": {},
   "outputs": [],
   "source": [
    "%%timeit -n 5 -r 5\n",
    "results = cy_ks_np(arr_base, arr_focus)"
   ]
  },
  {
   "cell_type": "code",
   "execution_count": null,
   "metadata": {},
   "outputs": [],
   "source": []
  }
 ],
 "metadata": {
  "kernelspec": {
   "display_name": "Python 3",
   "language": "python",
   "name": "python3"
  },
  "language_info": {
   "codemirror_mode": {
    "name": "ipython",
    "version": 3
   },
   "file_extension": ".py",
   "mimetype": "text/x-python",
   "name": "python",
   "nbconvert_exporter": "python",
   "pygments_lexer": "ipython3",
   "version": "3.7.4"
  }
 },
 "nbformat": 4,
 "nbformat_minor": 4
}
