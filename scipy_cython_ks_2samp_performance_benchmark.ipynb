{
 "cells": [
  {
   "cell_type": "code",
   "execution_count": 1,
   "metadata": {},
   "outputs": [],
   "source": [
    "%load_ext Cython"
   ]
  },
  {
   "cell_type": "code",
   "execution_count": 2,
   "metadata": {},
   "outputs": [],
   "source": [
    "import time\n",
    "\n",
    "import cython\n",
    "import numpy as np\n",
    "import pandas as pd\n",
    "from scipy.stats import ks_2samp\n",
    "\n",
    "# inputs\n",
    "n_cols = 500\n",
    "n_rows = 1000\n",
    "\n",
    "ks_mode = 'asymp'"
   ]
  },
  {
   "cell_type": "code",
   "execution_count": 3,
   "metadata": {},
   "outputs": [
    {
     "name": "stdout",
     "output_type": "stream",
     "text": [
      "(1000, 501)\n",
      "       col0      col1      col2      col3      col4      col5      col6  \\\n",
      "0  0.576180  0.028715  0.993711  0.135535  0.346557  0.518403  0.729246   \n",
      "1  0.660837  0.095143  0.371349  0.028041  0.233918  0.026286  0.836127   \n",
      "2  0.106310  0.081704  0.978659  0.056065  0.651664  0.431180  0.564958   \n",
      "3  0.672454  0.793970  0.077888  0.642459  0.507821  0.993883  0.947422   \n",
      "4  0.172368  0.250165  0.734814  0.210094  0.451818  0.358249  0.495988   \n",
      "\n",
      "       col7      col8      col9  ...    col491    col492    col493    col494  \\\n",
      "0  0.490158  0.494646  0.116077  ...  0.860490  0.569335  0.044060  0.971207   \n",
      "1  0.886347  0.882663  0.605259  ...  0.103136  0.424617  0.150541  0.035092   \n",
      "2  0.893656  0.501112  0.623185  ...  0.041430  0.825347  0.620048  0.942049   \n",
      "3  0.136142  0.794745  0.639645  ...  0.841491  0.669624  0.081996  0.635159   \n",
      "4  0.643380  0.699809  0.414895  ...  0.083681  0.623664  0.844328  0.572089   \n",
      "\n",
      "     col495    col496    col497    col498    col499  window  \n",
      "0  0.287772  0.190081  0.828497  0.799071  0.108274    base  \n",
      "1  0.472390  0.743116  0.435017  0.548229  0.217917   focus  \n",
      "2  0.715935  0.836489  0.146727  0.654966  0.577546    base  \n",
      "3  0.369755  0.047004  0.117552  0.020974  0.022401    base  \n",
      "4  0.977351  0.194073  0.578071  0.485818  0.503454   focus  \n",
      "\n",
      "[5 rows x 501 columns]\n",
      "base     507\n",
      "focus    493\n",
      "Name: window, dtype: int64\n"
     ]
    }
   ],
   "source": [
    "# create data\n",
    "df = pd.DataFrame(\n",
    "    np.random.rand(n_rows, n_cols),\n",
    "    columns=[f'col{col}' for col in range(n_cols)]\n",
    ")\n",
    "\n",
    "# randomly select a base and focus window\n",
    "df['window'] = np.where(np.random.rand(n_rows) >= 0.5, 'base', 'focus')\n",
    "\n",
    "# print some info\n",
    "print(df.shape)\n",
    "print(df.head())\n",
    "print(df['window'].value_counts())"
   ]
  },
  {
   "cell_type": "code",
   "execution_count": 4,
   "metadata": {},
   "outputs": [
    {
     "name": "stdout",
     "output_type": "stream",
     "text": [
      "<class 'numpy.ndarray'> (507, 500)\n",
      "<class 'numpy.ndarray'> (493, 500)\n"
     ]
    }
   ],
   "source": [
    "# create two numpy array's from df\n",
    "arr_base = df[df['window'] == 'base']._get_numeric_data().values\n",
    "arr_focus = df[df['window'] == 'focus']._get_numeric_data().values\n",
    "print(type(arr_base), arr_base.shape)\n",
    "print(type(arr_focus), arr_focus.shape)"
   ]
  },
  {
   "cell_type": "code",
   "execution_count": 5,
   "metadata": {},
   "outputs": [],
   "source": [
    "def ks_df_dumb(df, ks_mode):\n",
    "    \"\"\"Take in a df, loop over each column, split into base and focus, and apply test.\n",
    "    \"\"\"\n",
    "    results = []\n",
    "    for col in df._get_numeric_data():\n",
    "        base = df[df['window'] == 'base'][col].values\n",
    "        focus = df[df['window'] == 'focus'][col].values\n",
    "        ks_stat, p_value = ks_2samp(base, focus, mode=ks_mode)\n",
    "        results.append((ks_stat, p_value))\n",
    "    return results"
   ]
  },
  {
   "cell_type": "code",
   "execution_count": 6,
   "metadata": {},
   "outputs": [
    {
     "name": "stdout",
     "output_type": "stream",
     "text": [
      "1.45 s ± 39.3 ms per loop (mean ± std. dev. of 5 runs, 5 loops each)\n"
     ]
    }
   ],
   "source": [
    "%%timeit -n 5 -r 5\n",
    "results = ks_df_dumb(df, ks_mode)"
   ]
  },
  {
   "cell_type": "code",
   "execution_count": 7,
   "metadata": {},
   "outputs": [
    {
     "name": "stdout",
     "output_type": "stream",
     "text": [
      "ks_df_dumb\n",
      "1.8 seconds\n"
     ]
    }
   ],
   "source": [
    "print('ks_df_dumb')\n",
    "start_time = time.time()\n",
    "results = ks_df_dumb(df, ks_mode)\n",
    "end_time = time.time()\n",
    "print(f'{round(end_time-start_time,2)} seconds')"
   ]
  },
  {
   "cell_type": "code",
   "execution_count": 8,
   "metadata": {},
   "outputs": [],
   "source": [
    "def ks_df_vec(df, ks_mode):\n",
    "    \"\"\"Take in a df, and use np.vectorize to avoid pandas loop.\n",
    "    \"\"\"\n",
    "    \n",
    "    def my_ks_2samp(a,b):\n",
    "        return ks_2samp(a,b,mode='asymp')\n",
    "    \n",
    "    results = []\n",
    "    base = df[df['window'] == 'base']._get_numeric_data().transpose().values\n",
    "    focus = df[df['window'] == 'focus']._get_numeric_data().transpose().values\n",
    "    ks_2samp_vec = np.vectorize(ks_2samp, signature='(n),(m)->(),()')\n",
    "    results = ks_2samp_vec(base, focus)\n",
    "    results = list(zip(results[0], results[1]))\n",
    "    return results"
   ]
  },
  {
   "cell_type": "code",
   "execution_count": 9,
   "metadata": {},
   "outputs": [
    {
     "name": "stdout",
     "output_type": "stream",
     "text": [
      "2.26 s ± 83.5 ms per loop (mean ± std. dev. of 5 runs, 5 loops each)\n"
     ]
    }
   ],
   "source": [
    "%%timeit -n 5 -r 5\n",
    "results = ks_df_vec(df, ks_mode)"
   ]
  },
  {
   "cell_type": "code",
   "execution_count": 10,
   "metadata": {},
   "outputs": [
    {
     "name": "stdout",
     "output_type": "stream",
     "text": [
      "ks_df_vec\n",
      "2.32 seconds\n"
     ]
    }
   ],
   "source": [
    "print('ks_df_vec')\n",
    "start_time = time.time()\n",
    "results = ks_df_vec(df, ks_mode)\n",
    "end_time = time.time()\n",
    "print(f'{round(end_time-start_time,2)} seconds')"
   ]
  },
  {
   "cell_type": "code",
   "execution_count": 11,
   "metadata": {},
   "outputs": [],
   "source": [
    "def ks_np_dumb(arr_a, arr_b, ks_mode):\n",
    "    results = []\n",
    "    for n in range(arr_a.shape[1]):        \n",
    "        ks_stat, p_value = ks_2samp(arr_a[:,n],arr_b[:,n], mode=ks_mode)\n",
    "        results.append((ks_stat, p_value))\n",
    "    return results"
   ]
  },
  {
   "cell_type": "code",
   "execution_count": 12,
   "metadata": {},
   "outputs": [
    {
     "name": "stdout",
     "output_type": "stream",
     "text": [
      "109 ms ± 6.88 ms per loop (mean ± std. dev. of 5 runs, 5 loops each)\n"
     ]
    }
   ],
   "source": [
    "%%timeit -n 5 -r 5\n",
    "results = ks_np_dumb(arr_base, arr_focus, ks_mode)"
   ]
  },
  {
   "cell_type": "code",
   "execution_count": 13,
   "metadata": {},
   "outputs": [
    {
     "name": "stdout",
     "output_type": "stream",
     "text": [
      "ks_np_dumb\n",
      "0.11 seconds\n"
     ]
    }
   ],
   "source": [
    "print('ks_np_dumb')\n",
    "start_time = time.time()\n",
    "results = ks_np_dumb(arr_base, arr_focus, ks_mode)\n",
    "end_time = time.time()\n",
    "print(f'{round(end_time-start_time,2)} seconds')"
   ]
  },
  {
   "cell_type": "code",
   "execution_count": 14,
   "metadata": {},
   "outputs": [],
   "source": [
    "def ks_np_vec(arr_a, arr_b, ks_mode):\n",
    "    \n",
    "    def my_ks_2samp(a,b):\n",
    "        return ks_2samp(a,b,mode=ks_mode)\n",
    "    \n",
    "    ks_2samp_vec = np.vectorize(my_ks_2samp, signature='(n),(m)->(),()')\n",
    "    results = ks_2samp_vec(arr_a.T, arr_b.T)\n",
    "    results = list(zip(results[0], results[1]))\n",
    "    return results"
   ]
  },
  {
   "cell_type": "code",
   "execution_count": 15,
   "metadata": {},
   "outputs": [
    {
     "name": "stdout",
     "output_type": "stream",
     "text": [
      "114 ms ± 4.83 ms per loop (mean ± std. dev. of 5 runs, 5 loops each)\n"
     ]
    }
   ],
   "source": [
    "%%timeit -n 5 -r 5\n",
    "results = ks_np_vec(arr_base, arr_focus, ks_mode)"
   ]
  },
  {
   "cell_type": "code",
   "execution_count": 16,
   "metadata": {},
   "outputs": [
    {
     "name": "stdout",
     "output_type": "stream",
     "text": [
      "ks_np_vec\n",
      "0.11 seconds\n"
     ]
    }
   ],
   "source": [
    "print('ks_np_vec')\n",
    "start_time = time.time()\n",
    "results = ks_np_vec(arr_base, arr_focus, ks_mode)\n",
    "end_time = time.time()\n",
    "print(f'{round(end_time-start_time,2)} seconds')"
   ]
  },
  {
   "cell_type": "code",
   "execution_count": 17,
   "metadata": {},
   "outputs": [],
   "source": [
    "%%cython\n",
    "\n",
    "import numpy as np\n",
    "cimport numpy as np\n",
    "cimport cython\n",
    "from scipy.stats import ks_2samp\n",
    "\n",
    "DTYPE = np.double\n",
    "\n",
    "\n",
    "cpdef cy_ks_np(double[:, :] arr_a, double[:, :] arr_b, str ks_mode):\n",
    "\n",
    "    cdef double k, p\n",
    "    cdef Py_ssize_t i\n",
    "    cdef Py_ssize_t m = arr_a.shape[1]\n",
    "    \n",
    "    result = np.zeros((m, 2), dtype=DTYPE)\n",
    "    cdef double[:, :] result_view = result\n",
    "\n",
    "    for i in range(m):\n",
    "        k, p = ks_2samp(arr_a[:,i], arr_b[:,i], mode=ks_mode)\n",
    "        result_view[i,0] = k\n",
    "        result_view[i,1] = p\n",
    "\n",
    "    return result"
   ]
  },
  {
   "cell_type": "code",
   "execution_count": 18,
   "metadata": {},
   "outputs": [
    {
     "name": "stdout",
     "output_type": "stream",
     "text": [
      "108 ms ± 4.93 ms per loop (mean ± std. dev. of 5 runs, 5 loops each)\n"
     ]
    }
   ],
   "source": [
    "%%timeit -n 5 -r 5\n",
    "results = cy_ks_np(arr_base, arr_focus, ks_mode)"
   ]
  },
  {
   "cell_type": "code",
   "execution_count": 19,
   "metadata": {},
   "outputs": [
    {
     "name": "stdout",
     "output_type": "stream",
     "text": [
      "cy_ks_np\n",
      "0.1 seconds\n"
     ]
    }
   ],
   "source": [
    "print('cy_ks_np')\n",
    "start_time = time.time()\n",
    "results = cy_ks_np(arr_base, arr_focus, ks_mode)\n",
    "end_time = time.time()\n",
    "print(f'{round(end_time-start_time,2)} seconds')"
   ]
  },
  {
   "cell_type": "code",
   "execution_count": null,
   "metadata": {},
   "outputs": [],
   "source": []
  },
  {
   "cell_type": "code",
   "execution_count": 20,
   "metadata": {},
   "outputs": [
    {
     "name": "stdout",
     "output_type": "stream",
     "text": [
      " "
     ]
    },
    {
     "data": {
      "text/plain": [
       "         66004 function calls in 0.138 seconds\n",
       "\n",
       "   Ordered by: internal time\n",
       "\n",
       "   ncalls  tottime  percall  cumtime  percall filename:lineno(function)\n",
       "     1000    0.024    0.000    0.024    0.000 {method 'searchsorted' of 'numpy.ndarray' objects}\n",
       "     1000    0.023    0.000    0.023    0.000 {method 'sort' of 'numpy.ndarray' objects}\n",
       "      500    0.018    0.000    0.057    0.000 _distn_infrastructure.py:1862(sf)\n",
       "      500    0.014    0.000    0.136    0.000 stats.py:5385(ks_2samp)\n",
       "     1000    0.007    0.000    0.009    0.000 numerictypes.py:578(_can_coerce_all)\n",
       "     1500    0.006    0.000    0.006    0.000 {method 'reduce' of 'numpy.ufunc' objects}\n",
       "     4500    0.005    0.000    0.005    0.000 {built-in method numpy.array}\n",
       "     1000    0.003    0.000    0.003    0.000 {method 'copy' of 'numpy.ndarray' objects}\n",
       "     1500    0.003    0.000    0.011    0.000 fromnumeric.py:69(_wrapreduction)\n",
       "        1    0.002    0.002    0.138    0.138 {built-in method _cython_magic_5b3b08858ffd45e5ff0952624fdda61d.cy_ks_np}\n",
       "     1500    0.002    0.000    0.002    0.000 {built-in method numpy.core._multiarray_umath._insert}\n",
       "      500    0.002    0.000    0.009    0.000 _distn_infrastructure.py:545(<listcomp>)\n",
       "      500    0.002    0.000    0.002    0.000 _distn_infrastructure.py:899(_open_support_mask)\n",
       "     1000    0.002    0.000    0.029    0.000 fromnumeric.py:815(sort)\n",
       "     7000    0.001    0.000    0.001    0.000 numerictypes.py:587(<listcomp>)\n",
       "      500    0.001    0.000    0.001    0.000 {built-in method numpy.concatenate}\n",
       "      500    0.001    0.000    0.007    0.000 function_base.py:1628(extract)\n",
       "     2000    0.001    0.000    0.027    0.000 fromnumeric.py:54(_wrapfunc)\n",
       "      500    0.001    0.000    0.001    0.000 _continuous_distns.py:139(_sf)\n",
       "      500    0.001    0.000    0.013    0.000 _distn_infrastructure.py:520(argsreduce)\n",
       "      500    0.001    0.000    0.003    0.000 shape_base.py:25(atleast_1d)\n",
       "      500    0.001    0.000    0.011    0.000 numerictypes.py:602(find_common_type)\n",
       "     1000    0.001    0.000    0.003    0.000 fromnumeric.py:1583(ravel)\n",
       "      500    0.001    0.000    0.001    0.000 {method 'reshape' of 'numpy.ndarray' objects}\n",
       "     1500    0.001    0.000    0.003    0.000 function_base.py:1684(place)\n",
       "      500    0.001    0.000    0.003    0.000 {method 'any' of 'numpy.generic' objects}\n",
       "      500    0.001    0.000    0.001    0.000 {method 'take' of 'numpy.ndarray' objects}\n",
       "     1000    0.001    0.000    0.001    0.000 {method 'ravel' of 'numpy.ndarray' objects}\n",
       "     8500    0.001    0.000    0.001    0.000 {built-in method builtins.len}\n",
       "     1000    0.001    0.000    0.025    0.000 fromnumeric.py:1179(searchsorted)\n",
       "     2500    0.001    0.000    0.003    0.000 numeric.py:541(asanyarray)\n",
       "     1500    0.001    0.000    0.001    0.000 fromnumeric.py:70(<dictcomp>)\n",
       "     3000    0.001    0.000    0.001    0.000 {built-in method builtins.isinstance}\n",
       "      500    0.001    0.000    0.005    0.000 fromnumeric.py:2512(amin)\n",
       "     2000    0.001    0.000    0.003    0.000 numeric.py:469(asarray)\n",
       "     2500    0.001    0.000    0.001    0.000 {built-in method builtins.getattr}\n",
       "      500    0.000    0.000    0.005    0.000 fromnumeric.py:2083(any)\n",
       "      500    0.000    0.000    0.000    0.000 numerictypes.py:654(<listcomp>)\n",
       "      500    0.000    0.000    0.003    0.000 fromnumeric.py:2397(amax)\n",
       "      500    0.000    0.000    0.002    0.000 fromnumeric.py:93(take)\n",
       "      500    0.000    0.000    0.000    0.000 {method 'nonzero' of 'numpy.ndarray' objects}\n",
       "      500    0.000    0.000    0.000    0.000 {built-in method builtins.max}\n",
       "      500    0.000    0.000    0.000    0.000 {built-in method numpy.zeros}\n",
       "      500    0.000    0.000    0.001    0.000 fromnumeric.py:1694(nonzero)\n",
       "      500    0.000    0.000    0.000    0.000 {built-in method builtins.min}\n",
       "     1000    0.000    0.000    0.000    0.000 _distn_infrastructure.py:874(_get_support)\n",
       "      500    0.000    0.000    0.000    0.000 <string>:1(__new__)\n",
       "      500    0.000    0.000    0.002    0.000 _methods.py:42(_any)\n",
       "      500    0.000    0.000    0.000    0.000 fromnumeric.py:1785(shape)\n",
       "     1500    0.000    0.000    0.000    0.000 {method 'items' of 'dict' objects}\n",
       "      500    0.000    0.000    0.000    0.000 {built-in method __new__ of type object at 0x00007FFE796379A0}\n",
       "      500    0.000    0.000    0.000    0.000 {built-in method math.gcd}\n",
       "      500    0.000    0.000    0.000    0.000 numerictypes.py:655(<listcomp>)\n",
       "      500    0.000    0.000    0.000    0.000 _distn_infrastructure.py:862(_argcheck)\n",
       "      500    0.000    0.000    0.000    0.000 <string>:2(_parse_args)\n",
       "      500    0.000    0.000    0.000    0.000 {method 'append' of 'list' objects}\n",
       "        1    0.000    0.000    0.138    0.138 {built-in method builtins.exec}\n",
       "        1    0.000    0.000    0.138    0.138 <string>:1(<module>)\n",
       "        1    0.000    0.000    0.000    0.000 {method 'disable' of '_lsprof.Profiler' objects}"
      ]
     },
     "metadata": {},
     "output_type": "display_data"
    }
   ],
   "source": [
    "%prun cy_ks_np(arr_base, arr_focus, ks_mode)"
   ]
  },
  {
   "cell_type": "code",
   "execution_count": null,
   "metadata": {},
   "outputs": [],
   "source": []
  },
  {
   "cell_type": "code",
   "execution_count": null,
   "metadata": {},
   "outputs": [],
   "source": []
  }
 ],
 "metadata": {
  "kernelspec": {
   "display_name": "Python 3",
   "language": "python",
   "name": "python3"
  },
  "language_info": {
   "codemirror_mode": {
    "name": "ipython",
    "version": 3
   },
   "file_extension": ".py",
   "mimetype": "text/x-python",
   "name": "python",
   "nbconvert_exporter": "python",
   "pygments_lexer": "ipython3",
   "version": "3.7.4"
  }
 },
 "nbformat": 4,
 "nbformat_minor": 4
}
