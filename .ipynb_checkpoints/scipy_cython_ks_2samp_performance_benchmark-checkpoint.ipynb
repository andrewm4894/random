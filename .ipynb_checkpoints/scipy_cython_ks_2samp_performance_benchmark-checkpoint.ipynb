{
 "cells": [
  {
   "cell_type": "code",
   "execution_count": 37,
   "metadata": {},
   "outputs": [
    {
     "name": "stdout",
     "output_type": "stream",
     "text": [
      "The Cython extension is already loaded. To reload it, use:\n",
      "  %reload_ext Cython\n"
     ]
    }
   ],
   "source": [
    "%load_ext Cython"
   ]
  },
  {
   "cell_type": "code",
   "execution_count": 38,
   "metadata": {},
   "outputs": [],
   "source": [
    "import time\n",
    "\n",
    "import cython\n",
    "import numpy as np\n",
    "import pandas as pd\n",
    "from scipy.stats import ks_2samp\n",
    "\n",
    "# inputs\n",
    "n_cols = 500\n",
    "n_rows = 1000"
   ]
  },
  {
   "cell_type": "code",
   "execution_count": 39,
   "metadata": {},
   "outputs": [
    {
     "name": "stdout",
     "output_type": "stream",
     "text": [
      "(1000, 501)\n",
      "       col0      col1      col2      col3      col4      col5      col6  \\\n",
      "0  0.886069  0.342227  0.940609  0.208911  0.896751  0.829383  0.856272   \n",
      "1  0.209245  0.043635  0.514498  0.693389  0.621050  0.217023  0.517723   \n",
      "2  0.320506  0.180175  0.726251  0.573701  0.207949  0.572271  0.193500   \n",
      "3  0.835452  0.904155  0.663100  0.749944  0.209785  0.029508  0.751463   \n",
      "4  0.433899  0.056769  0.226017  0.600785  0.494551  0.236688  0.732381   \n",
      "\n",
      "       col7      col8      col9  ...    col491    col492    col493    col494  \\\n",
      "0  0.423602  0.655348  0.537874  ...  0.448364  0.451231  0.747732  0.893936   \n",
      "1  0.833583  0.247214  0.361892  ...  0.626373  0.960159  0.402688  0.727979   \n",
      "2  0.355157  0.249714  0.631273  ...  0.749485  0.949959  0.424991  0.617194   \n",
      "3  0.875575  0.339591  0.778173  ...  0.678897  0.706769  0.696911  0.561921   \n",
      "4  0.021581  0.777907  0.299382  ...  0.774766  0.339363  0.744937  0.481794   \n",
      "\n",
      "     col495    col496    col497    col498    col499  window  \n",
      "0  0.012076  0.051625  0.623389  0.175976  0.106554   focus  \n",
      "1  0.841180  0.958511  0.544054  0.049438  0.255752   focus  \n",
      "2  0.252832  0.736804  0.579067  0.141551  0.251618   focus  \n",
      "3  0.274715  0.009717  0.897125  0.574693  0.145927    base  \n",
      "4  0.058749  0.275654  0.484451  0.846962  0.455282   focus  \n",
      "\n",
      "[5 rows x 501 columns]\n",
      "focus    502\n",
      "base     498\n",
      "Name: window, dtype: int64\n"
     ]
    }
   ],
   "source": [
    "# create data\n",
    "df = pd.DataFrame(\n",
    "    np.random.rand(n_rows, n_cols),\n",
    "    columns=[f'col{col}' for col in range(n_cols)]\n",
    ")\n",
    "\n",
    "# randomly select a base and focus window\n",
    "df['window'] = np.where(np.random.rand(n_rows) >= 0.5, 'base', 'focus')\n",
    "\n",
    "# print some info\n",
    "print(df.shape)\n",
    "print(df.head())\n",
    "print(df['window'].value_counts())"
   ]
  },
  {
   "cell_type": "code",
   "execution_count": 40,
   "metadata": {},
   "outputs": [
    {
     "name": "stdout",
     "output_type": "stream",
     "text": [
      "<class 'numpy.ndarray'> (498, 500)\n",
      "<class 'numpy.ndarray'> (502, 500)\n"
     ]
    }
   ],
   "source": [
    "# create two numpy array's from df\n",
    "arr_base = df[df['window'] == 'base']._get_numeric_data().values\n",
    "arr_focus = df[df['window'] == 'focus']._get_numeric_data().values\n",
    "print(type(arr_base), arr_base.shape)\n",
    "print(type(arr_focus), arr_focus.shape)"
   ]
  },
  {
   "cell_type": "code",
   "execution_count": 41,
   "metadata": {},
   "outputs": [],
   "source": [
    "def ks_df_dumb(df):\n",
    "    results = []\n",
    "    for col in df._get_numeric_data():\n",
    "        base = df[df['window'] == 'base'][col].values\n",
    "        focus = df[df['window'] == 'focus'][col].values\n",
    "        ks_stat, p_value = ks_2samp(base, focus, mode='asymp')\n",
    "        results.append((ks_stat, p_value))\n",
    "    return results"
   ]
  },
  {
   "cell_type": "code",
   "execution_count": 51,
   "metadata": {},
   "outputs": [],
   "source": [
    "def ks_df_vec(df):\n",
    "    \n",
    "    def my_ks_2samp(a,b):\n",
    "        return ks_2samp(a,b,mode='asymp')\n",
    "    \n",
    "    results = []\n",
    "    base = df[df['window'] == 'base']._get_numeric_data().transpose().values\n",
    "    focus = df[df['window'] == 'focus']._get_numeric_data().transpose().values\n",
    "    ks_2samp_vec = np.vectorize(ks_2samp, signature='(n),(m)->(),()')\n",
    "    results = ks_2samp_vec(base, focus)\n",
    "    results = list(zip(results[0], results[1]))\n",
    "    return results"
   ]
  },
  {
   "cell_type": "code",
   "execution_count": 43,
   "metadata": {},
   "outputs": [],
   "source": [
    "def ks_np_dumb(arr_a, arr_b):\n",
    "    results = []\n",
    "    for n in range(arr_a.shape[1]):        \n",
    "        ks_stat, p_value = ks_2samp(arr_a[:,n],arr_b[:,n], mode='asymp')\n",
    "        results.append((ks_stat, p_value))\n",
    "    return results"
   ]
  },
  {
   "cell_type": "code",
   "execution_count": 50,
   "metadata": {},
   "outputs": [],
   "source": [
    "def ks_np_vec(arr_a, arr_b):\n",
    "    \n",
    "    def my_ks_2samp(a,b):\n",
    "        return ks_2samp(a,b,mode='asymp')\n",
    "    \n",
    "    ks_2samp_vec = np.vectorize(my_ks_2samp, signature='(n),(m)->(),()')\n",
    "    results = ks_2samp_vec(arr_a.T, arr_b.T)\n",
    "    results = list(zip(results[0], results[1]))\n",
    "    return results"
   ]
  },
  {
   "cell_type": "code",
   "execution_count": 45,
   "metadata": {},
   "outputs": [],
   "source": [
    "%%cython\n",
    "\n",
    "import numpy as np\n",
    "cimport numpy as np\n",
    "cimport cython\n",
    "from scipy.stats import ks_2samp\n",
    "\n",
    "DTYPE = np.double\n",
    "\n",
    "\n",
    "cpdef cy_ks_np(double[:, :] arr_a, double[:, :] arr_b):\n",
    "\n",
    "    cdef double k, p\n",
    "    cdef Py_ssize_t i\n",
    "    cdef Py_ssize_t m = arr_a.shape[1]\n",
    "    \n",
    "    result = np.zeros((m, 2), dtype=DTYPE)\n",
    "    cdef double[:, :] result_view = result\n",
    "\n",
    "    for i in range(m):\n",
    "        k, p = ks_2samp(arr_a[:,i], arr_b[:,i], mode='asymp')\n",
    "        result_view[i,0] = k\n",
    "        result_view[i,1] = p\n",
    "\n",
    "    return result"
   ]
  },
  {
   "cell_type": "code",
   "execution_count": 46,
   "metadata": {},
   "outputs": [
    {
     "name": "stdout",
     "output_type": "stream",
     "text": [
      "1.55 s ± 114 ms per loop (mean ± std. dev. of 5 runs, 5 loops each)\n"
     ]
    }
   ],
   "source": [
    "%%timeit -n 5 -r 5\n",
    "results = ks_df_dumb(df)"
   ]
  },
  {
   "cell_type": "code",
   "execution_count": 47,
   "metadata": {},
   "outputs": [
    {
     "name": "stdout",
     "output_type": "stream",
     "text": [
      "2.28 s ± 116 ms per loop (mean ± std. dev. of 5 runs, 5 loops each)\n"
     ]
    }
   ],
   "source": [
    "%%timeit -n 5 -r 5\n",
    "results = ks_df_vec(df)"
   ]
  },
  {
   "cell_type": "code",
   "execution_count": 48,
   "metadata": {},
   "outputs": [
    {
     "name": "stdout",
     "output_type": "stream",
     "text": [
      "101 ms ± 2.84 ms per loop (mean ± std. dev. of 5 runs, 5 loops each)\n"
     ]
    }
   ],
   "source": [
    "%%timeit -n 5 -r 5\n",
    "results = ks_np_dumb(arr_base, arr_focus)"
   ]
  },
  {
   "cell_type": "code",
   "execution_count": 52,
   "metadata": {},
   "outputs": [
    {
     "name": "stdout",
     "output_type": "stream",
     "text": [
      "103 ms ± 4.53 ms per loop (mean ± std. dev. of 5 runs, 5 loops each)\n"
     ]
    }
   ],
   "source": [
    "%%timeit -n 5 -r 5\n",
    "results = ks_np_vec(arr_base, arr_focus)"
   ]
  },
  {
   "cell_type": "code",
   "execution_count": 53,
   "metadata": {},
   "outputs": [
    {
     "name": "stdout",
     "output_type": "stream",
     "text": [
      "123 ms ± 6.25 ms per loop (mean ± std. dev. of 5 runs, 5 loops each)\n"
     ]
    }
   ],
   "source": [
    "%%timeit -n 5 -r 5\n",
    "results = cy_ks_np(arr_base, arr_focus)"
   ]
  },
  {
   "cell_type": "code",
   "execution_count": 54,
   "metadata": {},
   "outputs": [
    {
     "name": "stdout",
     "output_type": "stream",
     "text": [
      "ks_df_dumb\n",
      "1.9 seconds\n"
     ]
    }
   ],
   "source": [
    "print('ks_df_dumb')\n",
    "start_time = time.time()\n",
    "results = ks_df_dumb(df)\n",
    "end_time = time.time()\n",
    "print(f'{round(end_time-start_time,2)} seconds')"
   ]
  },
  {
   "cell_type": "code",
   "execution_count": 55,
   "metadata": {},
   "outputs": [
    {
     "name": "stdout",
     "output_type": "stream",
     "text": [
      "ks_df_vec\n",
      "2.54 seconds\n"
     ]
    }
   ],
   "source": [
    "print('ks_df_vec')\n",
    "start_time = time.time()\n",
    "results = ks_df_vec(df)\n",
    "end_time = time.time()\n",
    "print(f'{round(end_time-start_time,2)} seconds')"
   ]
  },
  {
   "cell_type": "code",
   "execution_count": 59,
   "metadata": {},
   "outputs": [
    {
     "name": "stdout",
     "output_type": "stream",
     "text": [
      "ks_np_dumb\n",
      "0.12 seconds\n"
     ]
    }
   ],
   "source": [
    "print('ks_np_dumb')\n",
    "start_time = time.time()\n",
    "results = ks_np_dumb(arr_base, arr_focus)\n",
    "end_time = time.time()\n",
    "print(f'{round(end_time-start_time,2)} seconds')"
   ]
  },
  {
   "cell_type": "code",
   "execution_count": 56,
   "metadata": {},
   "outputs": [
    {
     "name": "stdout",
     "output_type": "stream",
     "text": [
      "ks_np_vec\n",
      "0.16 seconds\n"
     ]
    }
   ],
   "source": [
    "print('ks_np_vec')\n",
    "start_time = time.time()\n",
    "results = ks_np_vec(arr_base, arr_focus)\n",
    "end_time = time.time()\n",
    "print(f'{round(end_time-start_time,2)} seconds')"
   ]
  },
  {
   "cell_type": "code",
   "execution_count": 57,
   "metadata": {},
   "outputs": [
    {
     "name": "stdout",
     "output_type": "stream",
     "text": [
      "cy_ks_np\n",
      "0.16 seconds\n"
     ]
    }
   ],
   "source": [
    "print('cy_ks_np')\n",
    "start_time = time.time()\n",
    "results = cy_ks_np(arr_base, arr_focus)\n",
    "end_time = time.time()\n",
    "print(f'{round(end_time-start_time,2)} seconds')"
   ]
  },
  {
   "cell_type": "code",
   "execution_count": 61,
   "metadata": {},
   "outputs": [
    {
     "name": "stdout",
     "output_type": "stream",
     "text": [
      " "
     ]
    },
    {
     "data": {
      "text/plain": [
       "         66504 function calls in 0.135 seconds\n",
       "\n",
       "   Ordered by: internal time\n",
       "\n",
       "   ncalls  tottime  percall  cumtime  percall filename:lineno(function)\n",
       "     1000    0.025    0.000    0.025    0.000 {method 'searchsorted' of 'numpy.ndarray' objects}\n",
       "     1000    0.023    0.000    0.023    0.000 {method 'sort' of 'numpy.ndarray' objects}\n",
       "      500    0.018    0.000    0.056    0.000 _distn_infrastructure.py:1862(sf)\n",
       "      500    0.013    0.000    0.133    0.000 stats.py:5385(ks_2samp)\n",
       "     1000    0.007    0.000    0.009    0.000 numerictypes.py:578(_can_coerce_all)\n",
       "     1500    0.005    0.000    0.005    0.000 {method 'reduce' of 'numpy.ufunc' objects}\n",
       "     1000    0.003    0.000    0.003    0.000 {method 'copy' of 'numpy.ndarray' objects}\n",
       "     4500    0.003    0.000    0.003    0.000 {built-in method numpy.array}\n",
       "     1500    0.003    0.000    0.011    0.000 fromnumeric.py:69(_wrapreduction)\n",
       "     1500    0.002    0.000    0.002    0.000 {built-in method numpy.core._multiarray_umath._insert}\n",
       "        1    0.002    0.002    0.135    0.135 <ipython-input-43-31ffede6dd5c>:1(ks_np_dumb)\n",
       "      500    0.002    0.000    0.009    0.000 _distn_infrastructure.py:545(<listcomp>)\n",
       "      500    0.002    0.000    0.002    0.000 _distn_infrastructure.py:899(_open_support_mask)\n",
       "     7000    0.001    0.000    0.001    0.000 numerictypes.py:587(<listcomp>)\n",
       "      500    0.001    0.000    0.001    0.000 {built-in method numpy.concatenate}\n",
       "     2000    0.001    0.000    0.028    0.000 fromnumeric.py:54(_wrapfunc)\n",
       "      500    0.001    0.000    0.007    0.000 function_base.py:1628(extract)\n",
       "      500    0.001    0.000    0.010    0.000 numerictypes.py:602(find_common_type)\n",
       "     1000    0.001    0.000    0.028    0.000 fromnumeric.py:815(sort)\n",
       "      500    0.001    0.000    0.003    0.000 shape_base.py:25(atleast_1d)\n",
       "      500    0.001    0.000    0.012    0.000 _distn_infrastructure.py:520(argsreduce)\n",
       "     1500    0.001    0.000    0.004    0.000 function_base.py:1684(place)\n",
       "      500    0.001    0.000    0.001    0.000 _continuous_distns.py:139(_sf)\n",
       "     1000    0.001    0.000    0.003    0.000 fromnumeric.py:1583(ravel)\n",
       "      500    0.001    0.000    0.003    0.000 {method 'any' of 'numpy.generic' objects}\n",
       "      500    0.001    0.000    0.001    0.000 {method 'take' of 'numpy.ndarray' objects}\n",
       "      500    0.001    0.000    0.001    0.000 {method 'reshape' of 'numpy.ndarray' objects}\n",
       "     8500    0.001    0.000    0.001    0.000 {built-in method builtins.len}\n",
       "     1000    0.001    0.000    0.027    0.000 fromnumeric.py:1179(searchsorted)\n",
       "     1000    0.001    0.000    0.001    0.000 {method 'ravel' of 'numpy.ndarray' objects}\n",
       "     2500    0.001    0.000    0.002    0.000 numeric.py:541(asanyarray)\n",
       "     1500    0.001    0.000    0.001    0.000 fromnumeric.py:70(<dictcomp>)\n",
       "     2000    0.001    0.000    0.002    0.000 numeric.py:469(asarray)\n",
       "      500    0.001    0.000    0.004    0.000 fromnumeric.py:2512(amin)\n",
       "     2500    0.001    0.000    0.001    0.000 {built-in method builtins.getattr}\n",
       "     3000    0.001    0.000    0.001    0.000 {built-in method builtins.isinstance}\n",
       "      500    0.000    0.000    0.005    0.000 fromnumeric.py:2083(any)\n",
       "      500    0.000    0.000    0.000    0.000 numerictypes.py:654(<listcomp>)\n",
       "      500    0.000    0.000    0.002    0.000 _methods.py:42(_any)\n",
       "      500    0.000    0.000    0.002    0.000 fromnumeric.py:93(take)\n",
       "      500    0.000    0.000    0.003    0.000 fromnumeric.py:2397(amax)\n",
       "      500    0.000    0.000    0.000    0.000 {method 'nonzero' of 'numpy.ndarray' objects}\n",
       "      500    0.000    0.000    0.000    0.000 {built-in method builtins.max}\n",
       "      500    0.000    0.000    0.000    0.000 {built-in method numpy.zeros}\n",
       "      500    0.000    0.000    0.000    0.000 fromnumeric.py:1785(shape)\n",
       "      500    0.000    0.000    0.000    0.000 <string>:1(__new__)\n",
       "     1000    0.000    0.000    0.000    0.000 _distn_infrastructure.py:874(_get_support)\n",
       "      500    0.000    0.000    0.001    0.000 fromnumeric.py:1694(nonzero)\n",
       "     1500    0.000    0.000    0.000    0.000 {method 'items' of 'dict' objects}\n",
       "      500    0.000    0.000    0.000    0.000 {built-in method __new__ of type object at 0x00007FFED89679A0}\n",
       "      500    0.000    0.000    0.000    0.000 {built-in method builtins.min}\n",
       "     1000    0.000    0.000    0.000    0.000 {method 'append' of 'list' objects}\n",
       "      500    0.000    0.000    0.000    0.000 _distn_infrastructure.py:862(_argcheck)\n",
       "      500    0.000    0.000    0.000    0.000 {built-in method math.gcd}\n",
       "      500    0.000    0.000    0.000    0.000 <string>:2(_parse_args)\n",
       "        1    0.000    0.000    0.135    0.135 <string>:1(<module>)\n",
       "      500    0.000    0.000    0.000    0.000 numerictypes.py:655(<listcomp>)\n",
       "        1    0.000    0.000    0.135    0.135 {built-in method builtins.exec}\n",
       "        1    0.000    0.000    0.000    0.000 {method 'disable' of '_lsprof.Profiler' objects}"
      ]
     },
     "metadata": {},
     "output_type": "display_data"
    }
   ],
   "source": [
    "%prun ks_np_dumb(arr_base, arr_focus)"
   ]
  },
  {
   "cell_type": "code",
   "execution_count": null,
   "metadata": {},
   "outputs": [],
   "source": []
  },
  {
   "cell_type": "code",
   "execution_count": null,
   "metadata": {},
   "outputs": [],
   "source": []
  }
 ],
 "metadata": {
  "kernelspec": {
   "display_name": "Python 3",
   "language": "python",
   "name": "python3"
  },
  "language_info": {
   "codemirror_mode": {
    "name": "ipython",
    "version": 3
   },
   "file_extension": ".py",
   "mimetype": "text/x-python",
   "name": "python",
   "nbconvert_exporter": "python",
   "pygments_lexer": "ipython3",
   "version": "3.7.4"
  }
 },
 "nbformat": 4,
 "nbformat_minor": 4
}
